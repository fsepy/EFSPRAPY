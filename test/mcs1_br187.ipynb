{
 "cells": [
  {
   "cell_type": "code",
   "execution_count": null,
   "outputs": [],
   "source": [
    "from os import path, mkdir\n",
    "\n",
    "import numpy as np\n",
    "from tqdm.notebook import tqdm\n",
    "from itertools import product\n",
    "\n",
    "from efsprapy.mcs1 import MCS1\n",
    "from sfeprapy.mcs import InputParser\n",
    "from fsetools.lib.fse_thermal_radiation_v2 import phi_solver\n",
    "from sfeprapy.func.xlsx import dict_to_xlsx\n",
    "import os"
   ],
   "metadata": {
    "collapsed": false,
    "ExecuteTime": {
     "start_time": "2023-06-12T22:06:57.208901Z",
     "end_time": "2023-06-12T22:06:58.377991Z"
    }
   }
  },
  {
   "cell_type": "code",
   "execution_count": null,
   "outputs": [],
   "source": [
    "dir_work = path.join(os.getcwd(), 'br187_base_case_analysis')\n",
    "try:\n",
    "    mkdir(dir_work)\n",
    "except:\n",
    "    pass\n",
    "\n",
    "Wv, Hv = np.meshgrid(\n",
    "    np.arange(3., 130 + 3., 3.),\n",
    "    np.arange(3., 30. + 3., 3.)\n",
    ")\n",
    "Sv = np.zeros_like(Wv)"
   ],
   "metadata": {
    "collapsed": false,
    "ExecuteTime": {
     "start_time": "2023-06-12T22:05:52.214175Z",
     "end_time": "2023-06-12T22:05:52.259065Z"
    }
   }
  },
  {
   "cell_type": "code",
   "execution_count": null,
   "outputs": [],
   "source": [
    "for i, j in product(range(Wv.shape[0]), range(Wv.shape[1])):\n",
    "        _, _, Sv[i, j], _ = phi_solver(\n",
    "            W=Wv[i, j], H=Hv[i, j], w=Wv[i, j] / 2, h=Hv[i, j] / 2, theta=0, Q=84, Q_a=12.6, UA=1)\n",
    "\n",
    "np.savetxt(\n",
    "    path.join(dir_work, 'cases_with_s.csv'),\n",
    "    np.column_stack((Wv.flatten(), Hv.flatten(), Sv.flatten())),\n",
    "    delimiter=',', header='W,H,S', comments='', fmt='%.3f'\n",
    ")"
   ],
   "metadata": {
    "collapsed": false,
    "ExecuteTime": {
     "start_time": "2023-06-12T22:05:52.225898Z",
     "end_time": "2023-06-12T22:05:53.205082Z"
    }
   }
  },
  {
   "cell_type": "code",
   "execution_count": null,
   "outputs": [],
   "source": [
    "\n",
    "def make_mcs_kwargs(W: float, H: float, S: float):\n",
    "    return dict(\n",
    "        n_simulations=100000,\n",
    "        t_end=180. * 60.,\n",
    "        t_step=10.,\n",
    "\n",
    "        opening_width=W,\n",
    "        opening_height=H,\n",
    "        opening_ventilation_fraction=dict(dist='lognorm_mod_', lbound=1e-4, ubound=1 - 1e-4, mean=0.2, sd=0.2),\n",
    "\n",
    "        room_width=W,\n",
    "        room_width_depth_ratio=dict(dist='uniform_', lbound=0.4, ubound=0.6),\n",
    "        room_height=H,\n",
    "\n",
    "        # fire_mode=dict(dist='discrete_', values='0,1,2', weights='0.07,0.59,0.34'),\n",
    "        fire_mode=0,\n",
    "        fire_fuel_density_MJm2=dict(dist=\"br187_fuel_load_density_\", lbound=10, ubound=5000),\n",
    "        fire_combustion_efficiency=dict(dist='uniform_', lbound=0.8, ubound=1.0),\n",
    "        fire_hrr_density_kWm2=dict(dist='br187_hrr_density_'),\n",
    "        fire_growth_factor=0.0117,\n",
    "        fire_t_lim=20. * 60.,\n",
    "        fire_convection_factor=0.7,\n",
    "\n",
    "        detector_to_fire_vertical_distance=H - 0.02,\n",
    "        detector_to_fire_horizontal_distance=2.83,\n",
    "        detector_act_temp=93 + 273.15,\n",
    "        detector_response_time_index=250,\n",
    "        detector_conduction_factor=0.65,\n",
    "\n",
    "        lining_rho=2000,\n",
    "        lining_c=1000,\n",
    "        lining_k=1.13,\n",
    "\n",
    "        receiver_ignition_temperature=-(300 + 273.15),\n",
    "        receiver_emissivity=1,\n",
    "        receiver_separation=S,\n",
    "\n",
    "        ftp_chf=13.4e3,\n",
    "        ftp_index=2.0,\n",
    "        ftp_target=34592,\n",
    "    )\n"
   ],
   "metadata": {
    "collapsed": false,
    "ExecuteTime": {
     "start_time": "2023-06-12T22:05:53.209284Z",
     "end_time": "2023-06-12T22:05:53.212859Z"
    }
   }
  },
  {
   "cell_type": "code",
   "execution_count": null,
   "outputs": [],
   "source": [
    "\n",
    "Iv = np.zeros_like(Wv, dtype=int)\n",
    "for i in tqdm(range(Wv.shape[0]), location=0):\n",
    "    kwargs = dict()\n",
    "    for j in range(Wv.shape[1]):\n",
    "        W, H, S = Wv[i, j], Hv[i, j], Sv[i, j]\n",
    "        case_name = f'{W:03g}-{H:03g}-{S:06.3f}'\n",
    "        kwargs[case_name] = make_mcs_kwargs(W=W, H=H, S=S).copy()\n",
    "\n",
    "    fp_input = path.join(dir_work, f'br187_base_cases_w{i:03f}.xlsx')\n",
    "    dict_to_xlsx({i: InputParser.flatten_dict(v) for i, v in kwargs.items()}, fp_input)\n",
    "\n",
    "    pbar = tqdm(total=sum([v['n_simulations'] for k, v in kwargs.items()]), )\n",
    "    mcs = MCS1()\n",
    "    mcs.set_inputs_file_path(fp_input)\n",
    "    mcs.run(n_proc=2, set_progress=lambda x: pbar.update(1), save=True, save_archive=True, location=1)\n",
    "    pbar.close()\n",
    "\n",
    "    for j in range(Wv.shape[1]):\n",
    "        W, H, S = Wv[i, j], Hv[i, j], Sv[i, j]\n",
    "        case_name = f'{W:03g}-{H:03g}-{S:06.3f}'\n",
    "        t_ig_ftp = mcs[case_name].output[:, 1]\n",
    "        Iv[i, j] = int(sum(np.bitwise_and(t_ig_ftp != np.inf, t_ig_ftp != np.nan)))\n"
   ],
   "metadata": {
    "collapsed": false
   }
  },
  {
   "cell_type": "code",
   "execution_count": null,
   "outputs": [],
   "source": [
    "np.savetxt(\n",
    "    path.join(dir_work, 's_and_i.csv'),\n",
    "    np.column_stack((Wv.flatten(), Hv.flatten(), Sv.flatten(), Iv.flatten())),\n",
    "    delimiter=',',\n",
    "    header='W,H,S,I',\n",
    "    comments='',\n",
    "    fmt='%.3f'\n",
    ")"
   ],
   "metadata": {
    "collapsed": false
   }
  }
 ],
 "metadata": {
  "kernelspec": {
   "display_name": "Python 3",
   "language": "python",
   "name": "python3"
  },
  "language_info": {
   "codemirror_mode": {
    "name": "ipython",
    "version": 2
   },
   "file_extension": ".py",
   "mimetype": "text/x-python",
   "name": "python",
   "nbconvert_exporter": "python",
   "pygments_lexer": "ipython2",
   "version": "2.7.6"
  }
 },
 "nbformat": 4,
 "nbformat_minor": 0
}
